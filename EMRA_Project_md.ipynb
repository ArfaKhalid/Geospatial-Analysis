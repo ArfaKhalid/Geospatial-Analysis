{
  "nbformat": 4,
  "nbformat_minor": 0,
  "metadata": {
    "colab": {
      "provenance": [],
      "authorship_tag": "ABX9TyMXTFGWysN3c9U40NYVRyFY",
      "include_colab_link": true
    },
    "kernelspec": {
      "name": "python3",
      "display_name": "Python 3"
    },
    "language_info": {
      "name": "python"
    }
  },
  "cells": [
    {
      "cell_type": "markdown",
      "metadata": {
        "id": "view-in-github",
        "colab_type": "text"
      },
      "source": [
        "<a href=\"https://colab.research.google.com/github/ArfaKhalid/Spatial-Data-Analysis/blob/main/EMRA_Project_md.ipynb\" target=\"_parent\"><img src=\"https://colab.research.google.com/assets/colab-badge.svg\" alt=\"Open In Colab\"/></a>"
      ]
    },
    {
      "cell_type": "markdown",
      "source": [
        "**Emergency Medical Response Assessment Project**\n",
        "\n",
        "*Objective:*  \n",
        "As a member of the crisis response team, this project aims to evaluate and analyze hospital performance in responding to crash collisions across New York City.\n",
        "\n",
        "1. **Data Loading and Visualization:**\n",
        "   - Importing necessary libraries (geopandas, pandas, folium).\n",
        "   - Defining a function (`embed_map`) to embed interactive maps.\n",
        "   - Visualizing collision data, loading GeoDataFrame for major motor vehicle collisions, and displaying a snapshot of the dataset.\n",
        "\n",
        "2. **Interactive Map for Collision Data:**\n",
        "   - Creating an interactive map using Folium to visualize the geographical distribution of collisions.\n",
        "   - Utilizing the 'LATITUDE' and 'LONGITUDE' columns for HeatMap visualization.\n",
        "\n",
        "3. **Understanding Hospital Coverage:**\n",
        "   - Loading GeoDataFrame for hospital locations across New York City.\n",
        "   - Creating a new map to display hospital locations using Marker clusters.\n",
        "\n",
        "4. **Assessing Hospital Proximity:**\n",
        "   - Identifying collisions that occurred more than 10 kilometers away from the closest hospital.\n",
        "   - Calculating the percentage of collisions falling outside the 10 km radius.\n",
        "\n",
        "5. **Recommender System:**\n",
        "   - Developing a recommender system to suggest the nearest hospital based on collision location.\n",
        "   - Identifying the hospital under the highest demand.\n",
        "\n",
        "6. **City Planning:**\n",
        "   - Visualizing areas where collisions occurred more than 10 km away from the closest hospital.\n",
        "   - Recommending two potential locations for new hospitals to reduce the percentage of distant collisions.\n",
        "\n",
        "*Interpretation:*\n",
        "The project provides insights into hospital performance, recommends the nearest hospital for emergency response, and suggests potential locations for new hospitals to optimize city-wide emergency medical response.\n",
        "\n"
      ],
      "metadata": {
        "id": "WEPaKvPqVrv3"
      }
    }
  ]
}